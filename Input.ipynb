{
 "cells": [
  {
   "cell_type": "markdown",
   "id": "9d676476",
   "metadata": {},
   "source": [
    "✅ input function"
   ]
  },
  {
   "cell_type": "markdown",
   "id": "f4241b06",
   "metadata": {},
   "source": [
    "This function first takes the input from the user"
   ]
  },
  {
   "cell_type": "code",
   "execution_count": 1,
   "id": "f3f8cac4",
   "metadata": {},
   "outputs": [
    {
     "data": {
      "text/plain": [
       "<bound method Kernel.raw_input of <ipykernel.ipkernel.IPythonKernel object at 0x7fae19e22790>>"
      ]
     },
     "execution_count": 1,
     "metadata": {},
     "output_type": "execute_result"
    }
   ],
   "source": [
    "input"
   ]
  },
  {
   "cell_type": "code",
   "execution_count": 2,
   "id": "cf2a982c",
   "metadata": {},
   "outputs": [
    {
     "name": "stdout",
     "output_type": "stream",
     "text": [
      "Hii\n"
     ]
    },
    {
     "data": {
      "text/plain": [
       "'Hii'"
      ]
     },
     "execution_count": 2,
     "metadata": {},
     "output_type": "execute_result"
    }
   ],
   "source": [
    "input()"
   ]
  },
  {
   "cell_type": "code",
   "execution_count": 3,
   "id": "787ad133",
   "metadata": {},
   "outputs": [
    {
     "name": "stdout",
     "output_type": "stream",
     "text": [
      "satementHello,EveryOne\n"
     ]
    },
    {
     "data": {
      "text/plain": [
       "'Hello,EveryOne'"
      ]
     },
     "execution_count": 3,
     "metadata": {},
     "output_type": "execute_result"
    }
   ],
   "source": [
    "input('satement')"
   ]
  },
  {
   "cell_type": "code",
   "execution_count": 4,
   "id": "13168552",
   "metadata": {},
   "outputs": [
    {
     "name": "stdout",
     "output_type": "stream",
     "text": [
      "Enter name:Sanjeet\n",
      "Sanjeet\n"
     ]
    }
   ],
   "source": [
    "name=input('Enter name:')\n",
    "print(name)"
   ]
  },
  {
   "cell_type": "code",
   "execution_count": 5,
   "id": "24c87a0e",
   "metadata": {},
   "outputs": [
    {
     "name": "stdout",
     "output_type": "stream",
     "text": [
      "EMAIL:hrthghtglh\n",
      "PASSWORD:hgrketgh\n"
     ]
    }
   ],
   "source": [
    "email=input('EMAIL:')\n",
    "PASS=input('PASSWORD:')"
   ]
  },
  {
   "cell_type": "code",
   "execution_count": 6,
   "id": "bf321939",
   "metadata": {},
   "outputs": [
    {
     "name": "stdout",
     "output_type": "stream",
     "text": [
      "enter number1\n",
      "enter second number2\n",
      "12\n",
      "<class 'str'>\n",
      "<class 'str'>\n",
      "<class 'str'>\n"
     ]
    }
   ],
   "source": [
    "num1=input('enter number')\n",
    "num2=input('enter second number')\n",
    "num3=num1+num2\n",
    "print(num3) #its gives 12 as o/p rather than 3, because num1 and num2 take as stg \n",
    "            #by defult input take data as str\n",
    "            #so its perform Concatenation rather than addition\n",
    "print(type(num1))\n",
    "print(type(num2))\n",
    "print(type(num3))"
   ]
  },
  {
   "cell_type": "code",
   "execution_count": 7,
   "id": "d8156a57",
   "metadata": {},
   "outputs": [
    {
     "name": "stdout",
     "output_type": "stream",
     "text": [
      "enter number1\n",
      "enter second number2\n",
      "3\n",
      "<class 'int'>\n",
      "<class 'int'>\n",
      "<class 'int'>\n"
     ]
    }
   ],
   "source": [
    "#we need to cast the input into int to take integer\n",
    "num1=int(input('enter number'))\n",
    "num2=int(input('enter second number'))\n",
    "num3=num1+num2\n",
    "print(num3)\n",
    "print(type(num1))\n",
    "print(type(num2))\n",
    "print(type(num3))"
   ]
  },
  {
   "cell_type": "code",
   "execution_count": 8,
   "id": "b55e3ba3",
   "metadata": {},
   "outputs": [
    {
     "name": "stdout",
     "output_type": "stream",
     "text": [
      "enter number\n",
      "1\n",
      "enter second number\n",
      "2\n",
      "3\n",
      "<class 'int'>\n",
      "<class 'int'>\n",
      "<class 'int'>\n"
     ]
    }
   ],
   "source": [
    "num1=int(input('enter number\\n')) #Here \\n help to take input in next line\n",
    "num2=int(input('enter second number\\n'))\n",
    "num3=num1+num2\n",
    "print(num3)\n",
    "print(type(num1))\n",
    "print(type(num2))\n",
    "print(type(num3))"
   ]
  },
  {
   "cell_type": "markdown",
   "id": "4fce9a43",
   "metadata": {},
   "source": [
    "!!Thank You!!"
   ]
  },
  {
   "cell_type": "code",
   "execution_count": null,
   "id": "1fbb1e77",
   "metadata": {},
   "outputs": [],
   "source": []
  }
 ],
 "metadata": {
  "kernelspec": {
   "display_name": "Python 3 (ipykernel)",
   "language": "python",
   "name": "python3"
  },
  "language_info": {
   "codemirror_mode": {
    "name": "ipython",
    "version": 3
   },
   "file_extension": ".py",
   "mimetype": "text/x-python",
   "name": "python",
   "nbconvert_exporter": "python",
   "pygments_lexer": "ipython3",
   "version": "3.9.12"
  },
  "varInspector": {
   "cols": {
    "lenName": 16,
    "lenType": 16,
    "lenVar": 40
   },
   "kernels_config": {
    "python": {
     "delete_cmd_postfix": "",
     "delete_cmd_prefix": "del ",
     "library": "var_list.py",
     "varRefreshCmd": "print(var_dic_list())"
    },
    "r": {
     "delete_cmd_postfix": ") ",
     "delete_cmd_prefix": "rm(",
     "library": "var_list.r",
     "varRefreshCmd": "cat(var_dic_list()) "
    }
   },
   "types_to_exclude": [
    "module",
    "function",
    "builtin_function_or_method",
    "instance",
    "_Feature"
   ],
   "window_display": false
  }
 },
 "nbformat": 4,
 "nbformat_minor": 5
}
