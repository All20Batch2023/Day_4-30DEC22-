{
 "cells": [
  {
   "cell_type": "markdown",
   "id": "cebf3268",
   "metadata": {},
   "source": [
    "<div class=\"alert alert-info\"><font color=#FF0000>Python  (All 20 Batch 23)</font>\n",
    "<br> <font color=#FF0000>Date - 30th Dec</font>\n",
    "<br> <font color=#FF0000>4th Day !!</font>\n",
    "</div>"
   ]
  },
  {
   "cell_type": "markdown",
   "id": "c0598c3a",
   "metadata": {},
   "source": [
    "<mark>**Topics :-**</mark>\n",
    "1. Operators</br>\n"
   ]
  },
  {
   "cell_type": "markdown",
   "id": "edcad963",
   "metadata": {},
   "source": [
    "✅Operators"
   ]
  },
  {
   "cell_type": "markdown",
   "id": "89c5738a",
   "metadata": {},
   "source": [
    "*Operators are used to perform operations*"
   ]
  },
  {
   "cell_type": "markdown",
   "id": "6e11688e",
   "metadata": {},
   "source": [
    "&#10148;Arithmetic operators"
   ]
  },
  {
   "cell_type": "markdown",
   "id": "81f10f8c",
   "metadata": {},
   "source": [
    "1. '+'\tAddition -->>\tx + y\t</br>\n",
    "2. '-'\tSubtraction -->>\tx - y\t</br>\n",
    "3. '*'\tMultiplication -->>\tx * y </br>\t\n",
    "4. '/'\tDivision -->>\tx / y\t</br>\n",
    "5. '%'\tModulus\t-->> x % y\t    </br>\n",
    "6. '**'\tExponentiation -->>\tx ** y\t </br>\n",
    "7. '//'\tFloor division -->>\tx // y"
   ]
  },
  {
   "cell_type": "code",
   "execution_count": 3,
   "id": "f246f463",
   "metadata": {},
   "outputs": [
    {
     "name": "stdout",
     "output_type": "stream",
     "text": [
      "5\n",
      "1\n",
      "6\n",
      "1.5\n",
      "1\n",
      "9\n",
      "1\n"
     ]
    }
   ],
   "source": [
    "num1=3\n",
    "num2=2\n",
    "print(num1+num2)\n",
    "print(num1-num2)\n",
    "print(num1*num2)\n",
    "print(num1/num2)\n",
    "print(num1%num2) # gives rem\n",
    "print(num1**num2) # use to take power\n",
    "print(num1//num2) # quotient/nearest whole number"
   ]
  },
  {
   "cell_type": "markdown",
   "id": "7e424a89",
   "metadata": {},
   "source": [
    "&#10148;Assignment Operators"
   ]
  },
  {
   "cell_type": "markdown",
   "id": "ffbbd6cb",
   "metadata": {},
   "source": [
    "1. '='   -->>  x = 5  -->> x = 5</br>\n",
    "2. '+='  -->>  x += 3 -->> x = x + 3</br>\n",
    "3. '-='  -->>  x -= 3 -->> x = x - 3</br>\n",
    "4. '*='  -->>  x *= 3 -->> x = x * 3</br>\n",
    "5. '/='  -->>  x /= 3 -->> x = x / 3</br>\n",
    "6. '%='  -->>  x %= 3 -->> x = x % 3</br>\n",
    "7. '//=' -->>  x //= 3-->> x = x // 3</br>\n",
    "8. '**=' -->>  x **= 3-->>  x = x ** 3"
   ]
  },
  {
   "cell_type": "code",
   "execution_count": 9,
   "id": "fb60303c",
   "metadata": {},
   "outputs": [
    {
     "ename": "SyntaxError",
     "evalue": "invalid syntax (3730168960.py, line 2)",
     "output_type": "error",
     "traceback": [
      "\u001b[0;36m  Input \u001b[0;32mIn [9]\u001b[0;36m\u001b[0m\n\u001b[0;31m    print(x+=2)\u001b[0m\n\u001b[0m           ^\u001b[0m\n\u001b[0;31mSyntaxError\u001b[0m\u001b[0;31m:\u001b[0m invalid syntax\n"
     ]
    }
   ],
   "source": [
    "x=4\n",
    "print(x+=2)"
   ]
  },
  {
   "cell_type": "code",
   "execution_count": 10,
   "id": "8c5adde7",
   "metadata": {},
   "outputs": [
    {
     "name": "stdout",
     "output_type": "stream",
     "text": [
      "6\n"
     ]
    }
   ],
   "source": [
    "x=4\n",
    "x+=2\n",
    "print(x)"
   ]
  },
  {
   "cell_type": "code",
   "execution_count": 11,
   "id": "76d75798",
   "metadata": {},
   "outputs": [
    {
     "ename": "TypeError",
     "evalue": "'x' is an invalid keyword argument for print()",
     "output_type": "error",
     "traceback": [
      "\u001b[0;31m---------------------------------------------------------------------------\u001b[0m",
      "\u001b[0;31mTypeError\u001b[0m                                 Traceback (most recent call last)",
      "Input \u001b[0;32mIn [11]\u001b[0m, in \u001b[0;36m<cell line: 2>\u001b[0;34m()\u001b[0m\n\u001b[1;32m      1\u001b[0m x\u001b[38;5;241m=\u001b[39m\u001b[38;5;241m4\u001b[39m\n\u001b[0;32m----> 2\u001b[0m \u001b[38;5;28;43mprint\u001b[39;49m\u001b[43m(\u001b[49m\u001b[43mx\u001b[49m\u001b[38;5;241;43m=\u001b[39;49m\u001b[43mx\u001b[49m\u001b[38;5;241;43m+\u001b[39;49m\u001b[38;5;241;43m2\u001b[39;49m\u001b[43m)\u001b[49m\n",
      "\u001b[0;31mTypeError\u001b[0m: 'x' is an invalid keyword argument for print()"
     ]
    }
   ],
   "source": [
    "x=4\n",
    "print(x=x+2)"
   ]
  },
  {
   "cell_type": "code",
   "execution_count": 12,
   "id": "293d08a7",
   "metadata": {},
   "outputs": [
    {
     "name": "stdout",
     "output_type": "stream",
     "text": [
      "6\n"
     ]
    }
   ],
   "source": [
    "x=4\n",
    "x=x+2\n",
    "print(x)"
   ]
  },
  {
   "cell_type": "markdown",
   "id": "dbd19ca8",
   "metadata": {},
   "source": [
    "&#10148;Comparison Operators"
   ]
  },
  {
   "cell_type": "markdown",
   "id": "ddbbb957",
   "metadata": {},
   "source": [
    "1. '=='\tEqual\tx == y\t</br>\n",
    "2. '!='\tNot equal\tx != y\t</br>\n",
    "3. '>'\tGreater than\tx > y\t</br>\n",
    "4. '<'\tLess than\tx < y\t    </br>\n",
    "5. '>='\tGreater than or equal to\tx >= y\t</br>\n",
    "6. '<='\tLess than or equal to\tx <= y </br>"
   ]
  },
  {
   "cell_type": "markdown",
   "id": "44ea0179",
   "metadata": {},
   "source": [
    "*o/p of comparison operators is True/False*"
   ]
  },
  {
   "cell_type": "code",
   "execution_count": 17,
   "id": "00cfc841",
   "metadata": {},
   "outputs": [
    {
     "name": "stdout",
     "output_type": "stream",
     "text": [
      "False\n",
      "True\n",
      "False\n",
      "True\n",
      "False\n",
      "True\n"
     ]
    }
   ],
   "source": [
    "print(2==3)\n",
    "print(2!=3)\n",
    "print(2>3)\n",
    "print(2<3)\n",
    "print(2>=3)\n",
    "print(2<=3)"
   ]
  },
  {
   "cell_type": "markdown",
   "id": "e12f446e",
   "metadata": {},
   "source": [
    "&#10148;Logical Operators"
   ]
  },
  {
   "cell_type": "markdown",
   "id": "37ae1cbf",
   "metadata": {},
   "source": [
    "*and </br>\n",
    "*or </br>\n",
    "*not"
   ]
  },
  {
   "cell_type": "markdown",
   "id": "464be838",
   "metadata": {},
   "source": [
    "*o/p of logical operators is True/False*"
   ]
  },
  {
   "cell_type": "code",
   "execution_count": 22,
   "id": "0cd2c0ee",
   "metadata": {},
   "outputs": [
    {
     "name": "stdout",
     "output_type": "stream",
     "text": [
      "True\n",
      "False\n"
     ]
    }
   ],
   "source": [
    "#and\n",
    "#apply when all conditions are must be true\n",
    "x=5\n",
    "print(x>3 and x<10)\n",
    "print(x>3 and x>10)"
   ]
  },
  {
   "cell_type": "code",
   "execution_count": 24,
   "id": "38dc865e",
   "metadata": {},
   "outputs": [
    {
     "name": "stdout",
     "output_type": "stream",
     "text": [
      "True\n",
      "True\n"
     ]
    }
   ],
   "source": [
    "#or\n",
    "#apply when any one of condition are must be true\n",
    "x=5\n",
    "print(x>3 or x<10)\n",
    "print(x>3 or x>10)"
   ]
  },
  {
   "cell_type": "code",
   "execution_count": 29,
   "id": "75c0ebfa",
   "metadata": {},
   "outputs": [
    {
     "name": "stdout",
     "output_type": "stream",
     "text": [
      "False\n",
      "True\n",
      "True\n",
      "False\n"
     ]
    }
   ],
   "source": [
    "#not gives False for True statement or True for False Statement\n",
    "x=5\n",
    "print(not(x==5))\n",
    "print(not(x>5))\n",
    "print(not((x>3 and x>10)))\n",
    "print(not(x>3 or x>10))"
   ]
  },
  {
   "cell_type": "code",
   "execution_count": 52,
   "id": "e6165cce",
   "metadata": {},
   "outputs": [
    {
     "name": "stdout",
     "output_type": "stream",
     "text": [
      "5\n",
      "0\n",
      "0\n",
      "sanju\n",
      "\n",
      "\n"
     ]
    }
   ],
   "source": [
    "#and looks for false \n",
    "print(2 and 5)\n",
    "print(0 and 5)\n",
    "print(2 and 0)\n",
    "print('sanjeet' and 'sanju')\n",
    "print(''and 'sanjeet')\n",
    "print('sanjeet' and '')"
   ]
  },
  {
   "cell_type": "code",
   "execution_count": 53,
   "id": "154057f7",
   "metadata": {},
   "outputs": [
    {
     "name": "stdout",
     "output_type": "stream",
     "text": [
      "2\n",
      "5\n",
      "2\n",
      "sanjeet\n",
      "sanjeet\n",
      "sanjeet\n"
     ]
    }
   ],
   "source": [
    "#or looks for True\n",
    "print(2 or 5) \n",
    "print(0 or 5)\n",
    "print(2 or 0)\n",
    "print('sanjeet' or 'sanju')\n",
    "print('' or 'sanjeet')\n",
    "print('sanjeet' or '')"
   ]
  },
  {
   "cell_type": "markdown",
   "id": "303c036b",
   "metadata": {},
   "source": [
    "&#10148;Identity Operators<br>\n",
    "*is</br>\n",
    "*is not"
   ]
  },
  {
   "cell_type": "markdown",
   "id": "e87c0acc",
   "metadata": {},
   "source": [
    "operators are used to compare the objects"
   ]
  },
  {
   "cell_type": "markdown",
   "id": "19dcfe32",
   "metadata": {},
   "source": [
    "*o/p of identity operators is True/False*"
   ]
  },
  {
   "cell_type": "code",
   "execution_count": 32,
   "id": "9bede619",
   "metadata": {},
   "outputs": [
    {
     "name": "stdout",
     "output_type": "stream",
     "text": [
      "False\n",
      "True\n"
     ]
    }
   ],
   "source": [
    "x=5\n",
    "y=4\n",
    "print(x is y)\n",
    "print(x is not y )"
   ]
  },
  {
   "cell_type": "code",
   "execution_count": 37,
   "id": "664e1780",
   "metadata": {},
   "outputs": [
    {
     "name": "stdout",
     "output_type": "stream",
     "text": [
      "True\n",
      "False\n",
      "False\n",
      "True\n"
     ]
    }
   ],
   "source": [
    "name1=\"sanjeet\"\n",
    "name2='sanjeet'\n",
    "print(name1 is name2)\n",
    "\n",
    "name3='sanju' #different text\n",
    "print(name1 is name3)\n",
    "\n",
    "name4='Sanjeet' # 's' is capital\n",
    "print(name1 is name4)\n",
    "print(name1 is not name4)"
   ]
  },
  {
   "cell_type": "code",
   "execution_count": 58,
   "id": "0942d64c",
   "metadata": {},
   "outputs": [
    {
     "ename": "SyntaxError",
     "evalue": "invalid syntax (2812479608.py, line 2)",
     "output_type": "error",
     "traceback": [
      "\u001b[0;36m  Input \u001b[0;32mIn [58]\u001b[0;36m\u001b[0m\n\u001b[0;31m    print(name1 not is name4) # here we write not is\u001b[0m\n\u001b[0m                    ^\u001b[0m\n\u001b[0;31mSyntaxError\u001b[0m\u001b[0;31m:\u001b[0m invalid syntax\n"
     ]
    }
   ],
   "source": [
    "# correct syntax 'is not' \n",
    "print(name1 not is name4) # Here we write not is."
   ]
  },
  {
   "cell_type": "markdown",
   "id": "887dc215",
   "metadata": {},
   "source": [
    "&#10148;'==' vs 'is'"
   ]
  },
  {
   "cell_type": "markdown",
   "id": "8a37f548",
   "metadata": {},
   "source": [
    "The == operator helps us compare the equality of objects.</br>\n",
    "The is operator helps us check whether different variables point towards a similar object in the memory."
   ]
  },
  {
   "cell_type": "code",
   "execution_count": 41,
   "id": "6eaba472",
   "metadata": {},
   "outputs": [
    {
     "name": "stdout",
     "output_type": "stream",
     "text": [
      "True\n",
      "True\n"
     ]
    }
   ],
   "source": [
    "name1=\"sanjeet\"\n",
    "name2='sanjeet'\n",
    "print(name1 is name2)\n",
    "print(name1==name2)"
   ]
  },
  {
   "cell_type": "code",
   "execution_count": 43,
   "id": "ff14f17f",
   "metadata": {},
   "outputs": [
    {
     "name": "stdout",
     "output_type": "stream",
     "text": [
      "True\n"
     ]
    }
   ],
   "source": [
    "print(2==2)"
   ]
  },
  {
   "cell_type": "code",
   "execution_count": 42,
   "id": "0046a085",
   "metadata": {},
   "outputs": [
    {
     "name": "stdout",
     "output_type": "stream",
     "text": [
      "True\n"
     ]
    },
    {
     "name": "stderr",
     "output_type": "stream",
     "text": [
      "<>:1: SyntaxWarning: \"is\" with a literal. Did you mean \"==\"?\n",
      "<>:1: SyntaxWarning: \"is\" with a literal. Did you mean \"==\"?\n",
      "/var/folders/t8/mxkgqv6922v4yx9kzl1h00_m0000gn/T/ipykernel_6540/2709023400.py:1: SyntaxWarning: \"is\" with a literal. Did you mean \"==\"?\n",
      "  print(2 is 2)\n"
     ]
    }
   ],
   "source": [
    "#Here 2 is not in the memory, so 'is' operator not works fine here.\n",
    "#'is' works with variable or objects in memory.\n",
    "print(2 is 2)"
   ]
  },
  {
   "cell_type": "markdown",
   "id": "b2b11378",
   "metadata": {},
   "source": [
    "&#10148;Membership Operators</br>\n",
    "*in</br>\n",
    "*not in"
   ]
  },
  {
   "cell_type": "markdown",
   "id": "c431acdb",
   "metadata": {},
   "source": [
    "used to check member"
   ]
  },
  {
   "cell_type": "markdown",
   "id": "6d3bf665",
   "metadata": {},
   "source": [
    "*o/p of membership operators is True/False*"
   ]
  },
  {
   "cell_type": "code",
   "execution_count": 55,
   "id": "a1d1ecde",
   "metadata": {},
   "outputs": [
    {
     "name": "stdout",
     "output_type": "stream",
     "text": [
      "True\n",
      "False\n",
      "True\n"
     ]
    }
   ],
   "source": [
    "name='sanjeet'\n",
    "print('s' in name)\n",
    "print('w' in name)\n",
    "print('w' not in name)"
   ]
  },
  {
   "cell_type": "code",
   "execution_count": 59,
   "id": "6c2afff6",
   "metadata": {},
   "outputs": [
    {
     "ename": "SyntaxError",
     "evalue": "invalid syntax (349167373.py, line 2)",
     "output_type": "error",
     "traceback": [
      "\u001b[0;36m  Input \u001b[0;32mIn [59]\u001b[0;36m\u001b[0m\n\u001b[0;31m    print('w' in not name) # Here we write 'not in'.\u001b[0m\n\u001b[0m                 ^\u001b[0m\n\u001b[0;31mSyntaxError\u001b[0m\u001b[0;31m:\u001b[0m invalid syntax\n"
     ]
    }
   ],
   "source": [
    "# correct syntax -->> 'not in'\n",
    "print('w' in not name) # Here we write 'not in'."
   ]
  },
  {
   "cell_type": "markdown",
   "id": "2f968930",
   "metadata": {},
   "source": [
    "&#10148;Bitwise Operators</br>"
   ]
  },
  {
   "cell_type": "markdown",
   "id": "d6f868c9",
   "metadata": {},
   "source": [
    "1. '&' \tAnd gate operation\n",
    "2. '|'\tOR gate operation\n",
    "3. '^'\tXor gate operation\n",
    "4. '~'\tNot gate operation\n",
    "5. '<<'\tZero fill left shift\n",
    "6. '>>'\tSigned right shift"
   ]
  },
  {
   "cell_type": "code",
   "execution_count": 62,
   "id": "306031ec",
   "metadata": {},
   "outputs": [
    {
     "name": "stdout",
     "output_type": "stream",
     "text": [
      "0\n",
      "14\n"
     ]
    }
   ],
   "source": [
    "a=10                 #1010\n",
    "b=4                 # 0100\n",
    "print(a & b)        # 0000 (AND gate operation(1-1=1 else 0))\n",
    "print(a | b)        # 1110 (OR gate operation(0-0=0 else 1))"
   ]
  },
  {
   "cell_type": "code",
   "execution_count": 64,
   "id": "4c43a8f0",
   "metadata": {},
   "outputs": [
    {
     "name": "stdout",
     "output_type": "stream",
     "text": [
      "10\n",
      "80\n"
     ]
    }
   ],
   "source": [
    "#zero left shift.    \n",
    "a=5                  #0000 0101\n",
    "print(a<<1)          #0000 1010 (1 left shift with zero)\n",
    "print(a<<4)          #0101 0000 (4 left shift with zero)"
   ]
  },
  {
   "cell_type": "markdown",
   "id": "55f32771",
   "metadata": {},
   "source": [
    "!! Thank You!!"
   ]
  },
  {
   "cell_type": "code",
   "execution_count": null,
   "id": "7e338256",
   "metadata": {},
   "outputs": [],
   "source": []
  }
 ],
 "metadata": {
  "kernelspec": {
   "display_name": "Python 3 (ipykernel)",
   "language": "python",
   "name": "python3"
  },
  "language_info": {
   "codemirror_mode": {
    "name": "ipython",
    "version": 3
   },
   "file_extension": ".py",
   "mimetype": "text/x-python",
   "name": "python",
   "nbconvert_exporter": "python",
   "pygments_lexer": "ipython3",
   "version": "3.9.12"
  },
  "varInspector": {
   "cols": {
    "lenName": 16,
    "lenType": 16,
    "lenVar": 40
   },
   "kernels_config": {
    "python": {
     "delete_cmd_postfix": "",
     "delete_cmd_prefix": "del ",
     "library": "var_list.py",
     "varRefreshCmd": "print(var_dic_list())"
    },
    "r": {
     "delete_cmd_postfix": ") ",
     "delete_cmd_prefix": "rm(",
     "library": "var_list.r",
     "varRefreshCmd": "cat(var_dic_list()) "
    }
   },
   "types_to_exclude": [
    "module",
    "function",
    "builtin_function_or_method",
    "instance",
    "_Feature"
   ],
   "window_display": false
  }
 },
 "nbformat": 4,
 "nbformat_minor": 5
}
